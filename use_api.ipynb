{
 "cells": [
  {
   "cell_type": "code",
   "execution_count": 55,
   "metadata": {},
   "outputs": [],
   "source": [
    "import requests\n",
    "import json\n",
    "import pymysql\n",
    "import random\n",
    "\n",
    "hostname = 'localhost'\n",
    "username = 'root'\n",
    "userpassword = 'root'\n",
    "enc_type = 'utf8'\n",
    "\n",
    "conn_db = pymysql.connect(host=hostname,\n",
    "                          user=username,\n",
    "                          password=userpassword,\n",
    "                          charset=enc_type)\n",
    "\n",
    "cur = conn_db.cursor()\n",
    "\n",
    "user_list_query = \"\"\"\n",
    "select *\n",
    "from database\n",
    "where ~;\n",
    "\"\"\"\n",
    "\n",
    "cur.execute(user_list_query)\n",
    "user_list = cur.fetchall()\n",
    "\n",
    "cur.close()\n",
    "conn_db.close()\n"
   ]
  },
  {
   "cell_type": "code",
   "execution_count": 64,
   "metadata": {},
   "outputs": [],
   "source": [
    "# user_list[0][0] # id (need to post) \n",
    "# user_list[0][4] # username (need to login)"
   ]
  },
  {
   "cell_type": "code",
   "execution_count": 58,
   "metadata": {},
   "outputs": [],
   "source": [
    "def is_leapyear(year):\n",
    "    if ((year % 4 == 0) and (year % 100 != 0)) or (year % 400 == 0):\n",
    "        return True\n",
    "    else:\n",
    "        return False\n",
    "\n",
    "def calculate_date():\n",
    "    year = random.randint(1923,2022)\n",
    "    month = random.randint(1,12)\n",
    "    if month == 2:\n",
    "        if is_leapyear(year):\n",
    "            day = random.randint(1,29)\n",
    "        else:\n",
    "            day = random.randint(1,28)\n",
    "    elif month in [1, 3, 5, 7, 8, 10, 12]:\n",
    "        day = random.randint(1,31)\n",
    "    else:\n",
    "        day = random.randint(1, 30)\n",
    "    \n",
    "    if month < 10:\n",
    "        month = str(month).zfill(2)\n",
    "\n",
    "    if day < 10:\n",
    "        day = str(day).zfill(2)\n",
    "\n",
    "    return f\"{year}-{month}-{day}\"\n",
    "\n",
    "def signin_api(username, password = \"for_test\"):\n",
    "    url = \"http://127.0.0.1:1234/accounts/api/login/\"\n",
    "    \n",
    "    headers = {'Content-Type': 'application/json', 'charset': 'UTF-8', 'Accept': '*/*'}\n",
    "    \n",
    "    body = {\n",
    "        \"username\": f\"{username}\",\n",
    "        \"password\": f\"{password}\"        \n",
    "    }\n",
    "    response = requests.post(url, headers=headers, data = json.dumps(body, ensure_ascii = False, indent = \"\\t\"))\n",
    "    return response.json()\n",
    "\n",
    "for i in range(874, len(user_list)):\n",
    "    show = signin_api(user_list[i][4])\n",
    "    \n",
    "    url = \"http://127.0.0.1:1234/board/api/create/\"\n",
    "    \n",
    "    headers = {'Content-Type' : 'application/json', 'charset': 'UTF-8', 'Accept': '*/*',\n",
    "                'Authorization' : f\"Bearer {signin_api(user_list[i][4])['token']['access']}\"}\n",
    "    \n",
    "    body = {\n",
    "        'title' : f\"dummy_test{i}\",\n",
    "        \"content\": f\"{user_list[i][0]}\",\n",
    "        \"author_id\": f\"{user_list[i][0]}\",\n",
    "        \"create_date\": f\"{calculate_date()}\"\n",
    "    }\n",
    "\n",
    "    response = requests.post(url, headers=headers, data = json.dumps(body, ensure_ascii = False, indent = \"\\t\"))\n",
    "    \n",
    "    if i != len(user_list):\n",
    "        print(f'stack No{i} plz wait.......')\n",
    "    \n",
    "    else:\n",
    "        print('Done')"
   ]
  }
 ],
 "metadata": {
  "kernelspec": {
   "display_name": "project",
   "language": "python",
   "name": "python3"
  },
  "language_info": {
   "codemirror_mode": {
    "name": "ipython",
    "version": 3
   },
   "file_extension": ".py",
   "mimetype": "text/x-python",
   "name": "python",
   "nbconvert_exporter": "python",
   "pygments_lexer": "ipython3",
   "version": "3.8.15"
  },
  "orig_nbformat": 4,
  "vscode": {
   "interpreter": {
    "hash": "c670a71a71dae00795bc69a001634810b90654065bc7e9343169880b78ee2228"
   }
  }
 },
 "nbformat": 4,
 "nbformat_minor": 2
}
